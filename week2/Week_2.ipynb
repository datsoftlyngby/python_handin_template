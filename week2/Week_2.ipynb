{
 "cells": [
  {
   "cell_type": "markdown",
   "metadata": {},
   "source": [
    "# Create a python file with 3 functions:"
   ]
  },
  {
   "cell_type": "markdown",
   "metadata": {},
   "source": [
    "## Exercise 1\n",
    "1. Create a python file with 3 functions:\n",
    "  1. `def print_file_content(file)` that can print content of a csv file to the console\n",
    "  2. `def write_list_to_file(output_file, lst)` that can take a list of tuple and write each element to a new line in file\n",
    "    1. rewrite the function so that it gets an arbitrary number of strings instead of a list\n",
    "  3. `def read_csv(input_file)` that take a csv file and read each row into a list\n",
    "2. Add a functionality so that the file can be called from cli with 2 arguments\n",
    "  1. path to csv file\n",
    "  2. an argument `--file file_name` that if given will write the content to file_name or otherwise will print it to the console.\n",
    "3. Add a --help cli argument to describe how the module is used  "
   ]
  },
  {
   "cell_type": "markdown",
   "metadata": {},
   "source": [
    "# ex. 1 A\n",
    "def print_file_content(file) that can print content of a csv file to the console"
   ]
  },
  {
   "cell_type": "code",
   "execution_count": 52,
   "metadata": {},
   "outputs": [
    {
     "name": "stdout",
     "output_type": "stream",
     "text": [
      "['Mælkevejen', ' er en flyvende']\n",
      "['glatåljens', 'lars']\n",
      "['ko', 'ost']\n"
     ]
    }
   ],
   "source": [
    "import csv\n",
    "\n",
    "test_file = \"./ost.csv\"\n",
    "\n",
    "def print_file_content(file_name):\n",
    "    with open(file_name, 'r') as file:\n",
    "        reader = csv.reader(file)\n",
    "        for row in reader:\n",
    "            print(row)\n",
    "    \n",
    "print_file_content(test_file)"
   ]
  },
  {
   "cell_type": "markdown",
   "metadata": {},
   "source": [
    "# ex. 1 B\n",
    "def write_list_to_file(output_file, lst) that can take a list of tuple and write each element to a new line in file"
   ]
  },
  {
   "cell_type": "code",
   "execution_count": 50,
   "metadata": {},
   "outputs": [
    {
     "name": "stdout",
     "output_type": "stream",
     "text": [
      "('jens', 'lars')\n",
      "('ko', 'ost')\n"
     ]
    }
   ],
   "source": [
    "import csv\n",
    "\n",
    "test_file = \"./ost.csv\"\n",
    "\n",
    "random_list = [(\"jens\", \"lars\"), (\"ko\", \"ost\")]\n",
    "\n",
    "def write_list_to_file(output_file, lst):\n",
    "    with open(output_file, 'a') as file:\n",
    "        write = csv.writer(file)\n",
    "        for element in lst:\n",
    "            write.writerow(element)\n",
    "            print(element)\n",
    "            \n",
    "write_list_to_file(test_file, random_list)"
   ]
  },
  {
   "cell_type": "markdown",
   "metadata": {},
   "source": [
    "## ex. 1 B A\n",
    "rewrite the function so that it gets an arbitrary number of strings instead of a list"
   ]
  },
  {
   "cell_type": "code",
   "execution_count": 1,
   "metadata": {},
   "outputs": [],
   "source": [
    "import csv\n",
    "\n",
    "test_file = \"./ost.csv\"\n",
    "\n",
    "random_list = [(\"jens\", \"lars\"), (\"ko\", \"ost\")]\n",
    "\n",
    "def write_arb_to_file(output_file, *strings):\n",
    "    with open(output_file, 'a') as file:\n",
    "        write = csv.writer(file)\n",
    "        write.writerow(strings)\n",
    "            \n",
    "write_arb_to_file(test_file, \"1\", \"s2s\", \"oste2klokke\")"
   ]
  },
  {
   "cell_type": "markdown",
   "metadata": {},
   "source": [
    "# ex. 1 C\n",
    "def read_csv(input_file) that take a csv file and read each row into a list"
   ]
  },
  {
   "cell_type": "code",
   "execution_count": 66,
   "metadata": {},
   "outputs": [
    {
     "name": "stdout",
     "output_type": "stream",
     "text": [
      "['Mælkevejen', ' er en flyvende']\n",
      "['glatåljens', 'lars']\n",
      "['ko', 'ost']\n",
      "[]\n",
      "['pat', 'sovs', 'osteklokke']\n",
      "['pat', 'sovs', 'osteklokke']\n"
     ]
    }
   ],
   "source": [
    "import csv\n",
    "\n",
    "test_file = \"./ost.csv\"\n",
    "\n",
    "def read_csv(csv_file):\n",
    "    with open(csv_file, 'r') as file:\n",
    "        reader = csv.reader(file)\n",
    "        for row in reader:\n",
    "            print(list(row))\n",
    "            \n",
    "read_csv(test_file)\n",
    "    \n",
    "    "
   ]
  },
  {
   "cell_type": "markdown",
   "metadata": {},
   "source": [
    "# ex. 2 A\n",
    "Add a functionality so that the file can be called from cli with 2 arguments\n",
    " \n",
    "All the tasks has been completed. I have created a separate folder called \"Week2\" in which i have placed the Week2.ipynb and different text and csv files. Exercise 2, 1,2 and 1,3 has been made in vs code in .py files."
   ]
  },
  {
   "cell_type": "code",
   "execution_count": null,
   "metadata": {},
   "outputs": [],
   "source": []
  }
 ],
 "metadata": {
  "kernelspec": {
   "display_name": "Python 3",
   "language": "python",
   "name": "python3"
  },
  "language_info": {
   "codemirror_mode": {
    "name": "ipython",
    "version": 3
   },
   "file_extension": ".py",
   "mimetype": "text/x-python",
   "name": "python",
   "nbconvert_exporter": "python",
   "pygments_lexer": "ipython3",
   "version": "3.7.6"
  }
 },
 "nbformat": 4,
 "nbformat_minor": 4
}
