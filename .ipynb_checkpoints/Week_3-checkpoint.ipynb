{
 "cells": [
  {
   "cell_type": "markdown",
   "metadata": {},
   "source": [
    "# Week 3 handin"
   ]
  },
  {
   "cell_type": "markdown",
   "metadata": {},
   "source": [
    "## 02 Status\n",
    "Here is a status on the handin. How far you got. What is implemented and what is not"
   ]
  },
  {
   "cell_type": "code",
   "execution_count": 1,
   "metadata": {},
   "outputs": [],
   "source": [
    "# opgave 7.A\n",
    "\n",
    "from modules import classes as cs\n",
    "\n",
    "##cs.generate_students(4)\n",
    "\n",
    "\n",
    "\n"
   ]
  },
  {
   "cell_type": "code",
   "execution_count": 2,
   "metadata": {},
   "outputs": [
    {
     "name": "stdout",
     "output_type": "stream",
     "text": [
      "Nona Faria\n",
      "yfdbhyoodcwmmaq\n",
      "\n",
      "-3.0\n",
      "Jeffrey Fannin\n",
      "bomeafoxgykfjhb\n",
      "\n",
      "12.0\n",
      "Mark Cason\n",
      "uzcrdhzimgyxdli\n",
      "\n",
      "4.0\n",
      "Patricia Cowell\n",
      "nwuarpruyccewxv\n",
      "\n",
      "12.0\n"
     ]
    }
   ],
   "source": [
    "# opgave 8.A\n",
    "\n",
    "from modules import classes as cs\n",
    "\n",
    "students = cs.get_students_list()\n",
    "\n",
    "for student in students:\n",
    "    print(student.name)\n",
    "    print(student.image_url)\n",
    "    print(student.get_avg_grade())"
   ]
  },
  {
   "cell_type": "code",
   "execution_count": 3,
   "metadata": {},
   "outputs": [
    {
     "name": "stdout",
     "output_type": "stream",
     "text": [
      "Jeffrey Fannin\n",
      "12.0\n",
      "Patricia Cowell\n",
      "12.0\n",
      "Mark Cason\n",
      "4.0\n",
      "Nona Faria\n",
      "-3.0\n"
     ]
    }
   ],
   "source": [
    "# opgave 8.B\n",
    "\n",
    "from modules import classes as cs\n",
    "\n",
    "students = cs.get_students_list()\n",
    "\n",
    "cs.sort_students_by_avg_grade(students)"
   ]
  },
  {
   "cell_type": "code",
   "execution_count": 4,
   "metadata": {},
   "outputs": [
    {
     "data": {
      "image/png": "[encoded data removed]",
      "text/plain": [
       "<Figure size 432x288 with 1 Axes>"
      ]
     },
     "metadata": {
      "needs_background": "light"
     },
     "output_type": "display_data"
    }
   ],
   "source": [
    "# opgave 8.C\n",
    "\n",
    "from modules import classes as cs\n",
    "\n",
    "cs.plot_students(students)"
   ]
  },
  {
   "cell_type": "code",
   "execution_count": null,
   "metadata": {},
   "outputs": [],
   "source": []
  },
  {
   "cell_type": "code",
   "execution_count": null,
   "metadata": {},
   "outputs": [],
   "source": []
  }
 ],
 "metadata": {
  "kernelspec": {
   "display_name": "Python 3",
   "language": "python",
   "name": "python3"
  },
  "language_info": {
   "codemirror_mode": {
    "name": "ipython",
    "version": 3
   },
   "file_extension": ".py",
   "mimetype": "text/x-python",
   "name": "python",
   "nbconvert_exporter": "python",
   "pygments_lexer": "ipython3",
   "version": "3.7.6"
  }
 },
 "nbformat": 4,
 "nbformat_minor": 4
}
