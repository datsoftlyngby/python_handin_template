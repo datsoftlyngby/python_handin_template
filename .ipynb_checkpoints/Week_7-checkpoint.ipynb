{
 "cells": [
  {
   "cell_type": "markdown",
   "metadata": {},
   "source": [
    "\n",
    "# Week 7 asignment\n",
    "For the following task you will need to use the website: https://www.dba.dk/\n",
    "\n",
    "1. Create a BeautifulSoup Object from the link given above\n",
    "2. Find all the \"Kategorier\"\n",
    "3. Find all the links\n",
    "4. Use selenium to press the \"Kategory\" link with the name \"biler\"\n",
    "5. In the category \"biler\" theres a list with cities to see where the sales of cars is located. Make a bar plot from lowest to highest showing the amount of car sale in each city."
   ]
  },
  {
   "cell_type": "code",
   "execution_count": 1,
   "metadata": {},
   "outputs": [],
   "source": [
    "#1)\n",
    "\n",
    "import bs4\n",
    "import requests\n",
    "\n",
    "\n",
    "r = requests.get('https://www.dba.dk', headers={'User-Agent': 'Mozilla/5.0'})\n",
    "r.raise_for_status()\n",
    "soup = bs4.BeautifulSoup(r.text, 'html.parser')\n"
   ]
  },
  {
   "cell_type": "code",
   "execution_count": 9,
   "metadata": {},
   "outputs": [
    {
     "name": "stdout",
     "output_type": "stream",
     "text": [
      "Biler\n",
      "Camping\n",
      "Biltilbehør\n",
      "Boliger\n",
      "Have og byg\n",
      "Til boligen\n",
      "Til børn\n",
      "Tøj og mode\n",
      "Sport og fritid\n",
      "Både\n",
      "Cykler\n",
      "Hobby\n",
      "Computer og spillekonsoller\n",
      "Mobil og telefoni\n",
      "Dyr\n",
      "Billede og lyd\n",
      "Musikinstrumenter\n",
      "Motorcykler og tilbehør\n",
      "Scootere og knallerter\n",
      "Diverse\n",
      "Erhverv\n",
      "Job\n",
      "Ferie\n",
      "Billetter\n",
      "Bøger og blade\n",
      "None\n"
     ]
    }
   ],
   "source": [
    "#2)\n",
    "\n",
    "res = soup.select('.taxonomy-navigation > li.single > a')\n",
    "\n",
    "for r in res:\n",
    "    print(r.get('title'))"
   ]
  },
  {
   "cell_type": "code",
   "execution_count": 139,
   "metadata": {},
   "outputs": [
    {
     "name": "stdout",
     "output_type": "stream",
     "text": [
      "https://www.dba.dk/\n",
      "https://guide.dba.dk\n",
      "https://support.dba.dk/\n",
      "https://www.dba.dk/\n",
      "https://www.dba.dk/biler/reg-koebenhavn-og-omegn/\n",
      "https://www.dba.dk/biler/reg-aarhus/\n",
      "https://www.dba.dk/biler/reg-odense/\n",
      "https://www.dba.dk/biler/reg-aalborg/\n",
      "https://www.dba.dk/biler/reg-sjaelland/\n",
      "https://www.dba.dk/biler/reg-jylland/\n",
      "https://www.dba.dk/biler/reg-fyn/\n",
      "https://www.dba.dk/biler/reg-bornholm/\n",
      "https://www.dba.dk/biler/reg-groenland/\n",
      "https://info.dba.dk/biler/vaerkstedsservice\n",
      "https://support.dba.dk/\n",
      "https://info.dba.dk/kontakt/\n",
      "https://jobs.ebayclassifiedsgroup.com/dba\n",
      "https://dba.presscloud.com/nr/#/\n",
      "https://guide.dba.dk\n",
      "https://sikkerhed.dba.dk/\n",
      "https://info.dba.dk/vilkaar/brugervilkaar\n",
      "https://info.dba.dk/vilkaar/annonceringsregler\n",
      "https://info.dba.dk/vilkaar/persondatapolitik\n",
      "https://boost.dba.dk\n",
      "https://www.bilbasen.dk\n",
      "https://www.dba.dk/\n",
      "https://da-dk.facebook.com/dba.dk\n",
      "https://twitter.com/dba_dk\n"
     ]
    }
   ],
   "source": [
    "#3)\n",
    "for link in soup.find_all('a'):\n",
    "    if not str(link.get('href')).startswith('https'):\n",
    "        continue\n",
    "    print(link.get('href'))"
   ]
  },
  {
   "cell_type": "code",
   "execution_count": null,
   "metadata": {},
   "outputs": [],
   "source": [
    "#4) Use selenium to press the \"Kategory\" link with the name \"biler\"\n",
    "from selenium import webdriver\n",
    "from selenium.webdriver.firefox.options import Options\n",
    "\n",
    "options = Options()\n",
    "options.headless = True\n",
    "browser = webdriver.Firefox(options=options)\n",
    "\n",
    "browser.get('https://www.dba.dk/%27')\n",
    "browser.implicitly_wait(3)\n",
    "\n",
    "link_to_persons = browser.find_elements_by_link_text('Biler')\n",
    "link_to_persons[0].click()\n",
    "print(type(link_to_persons))\n"
   ]
  },
  {
   "cell_type": "code",
   "execution_count": 140,
   "metadata": {},
   "outputs": [
    {
     "ename": "SyntaxError",
     "evalue": "invalid syntax (<ipython-input-140-7ebd3340e906>, line 20)",
     "output_type": "error",
     "traceback": [
      "\u001b[0;36m  File \u001b[0;32m\"<ipython-input-140-7ebd3340e906>\"\u001b[0;36m, line \u001b[0;32m20\u001b[0m\n\u001b[0;31m    plt.bar([n], [sortedDict.get(n)], width=0.5, align=\"center\" label=\"asd\")\u001b[0m\n\u001b[0m                                                                    ^\u001b[0m\n\u001b[0;31mSyntaxError\u001b[0m\u001b[0;31m:\u001b[0m invalid syntax\n"
     ]
    }
   ],
   "source": [
    "#5) In the category \"biler\" theres a list with cities to see where the sales of cars is located. \n",
    "#   Make a bar plot from lowest to highest showing the amount of car sale in each city.\n",
    "import matplotlib.pyplot as plt\n",
    "\n",
    "r2 = requests.get('https://www.dba.dk/biler', headers={'User-Agent': 'Mozilla/5.0'})\n",
    "r2.raise_for_status()\n",
    "soup = bs4.BeautifulSoup(r2.text, 'html.parser')\n",
    "city_sales = soup.select('nav.row-fluid > ul > li > a ')\n",
    "\n",
    "c_s_dict = {}                         \n",
    "                         \n",
    "for x in city_sales:\n",
    "    sales = int(x.text.split(\" \")[-1].split(\"(\")[1].split(\")\")[0])\n",
    "    city = x.text.split(\" \")[0]\n",
    "    c_s_dict.update({city: sales})\n",
    "\n",
    "sortedDict = {k: v for k, v in sorted(c_s_dict.items(), key=lambda item: item[1])}\n",
    "\n",
    "for n in sortedDict:\n",
    "    plt.bar([n], [sortedDict.get(n)], width=0.5, align=\"center\")\n",
    "    plt.xticks(rotation=45, horizontalalignment=\"right\", fontweight=\"light\")\n",
    "    plt.ylabel(\"Sales number\", fontsize=12)\n",
    "    \n",
    "  \n"
   ]
  }
 ],
 "metadata": {
  "kernelspec": {
   "display_name": "Python 3",
   "language": "python",
   "name": "python3"
  },
  "language_info": {
   "codemirror_mode": {
    "name": "ipython",
    "version": 3
   },
   "file_extension": ".py",
   "mimetype": "text/x-python",
   "name": "python",
   "nbconvert_exporter": "python",
   "pygments_lexer": "ipython3",
   "version": "3.7.6"
  }
 },
 "nbformat": 4,
 "nbformat_minor": 4
}
